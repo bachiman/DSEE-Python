{
 "cells": [
  {
   "cell_type": "markdown",
   "metadata": {},
   "source": [
    "** 1. Entrada/salida de arrays NumPy **\n",
    "\n",
    "- NumPy tiene una categoría de funciones para grabar y recuperar arrays\n",
    "de disco: https://docs.scipy.org/doc/numpy/reference/routines.io.html\n",
    "A partir del siguiente código:\n",
    "- Guardar los arrays anteriores en formato específico de NumPy\n",
    "comprimido y formato de texto (sin comprimir).\n",
    "- Comparar las diferencias de espacio en disco desde el mismo Notebook,\n",
    "y ver sus contenidos con el comando head del sistema operativo.\n",
    "- Cargarlos de nuevo en memoria con nombres de variable diferentes.\n",
    "- (opcional) Guardar los dos arrays en un solo fichero de texto y\n",
    "recuperarlos de nuevo. Pista: utilizar tuplas.\n"
   ]
  },
  {
   "cell_type": "code",
   "execution_count": 12,
   "metadata": {
    "collapsed": false
   },
   "outputs": [
    {
     "name": "stdout",
     "output_type": "stream",
     "text": [
      "[ 0.72026871  0.01193829  0.60428228  0.65781446  0.06151358  0.87855885\n",
      "  0.01702293  0.0338917   0.88980576  0.54453785]\n",
      "[ 1.3150678   1.60105015 -2.22401729  0.31140702  1.72474742  0.20993405\n",
      "  0.59906299 -0.78241248  0.58422476 -0.8853239 ]\n",
      "[ 0.72026871  0.01193829  0.60428228  0.65781446  0.06151358  0.87855885\n",
      "  0.01702293  0.0338917   0.88980576  0.54453785]\n",
      "[ 1.3150678   1.60105015 -2.22401729  0.31140702  1.72474742  0.20993405\n",
      "  0.59906299 -0.78241248  0.58422476 -0.8853239 ]\n"
     ]
    }
   ],
   "source": [
    "import numpy as np\n",
    "N = 10\n",
    "a = np.random.uniform(size=N)\n",
    "b = np.random.normal(size=N)\n",
    "\n",
    "#Guardar en formato NumPy comprimido: 500 bytes\n",
    "np.savez_compressed('arrays_ab.npz', a=a, b=b)\n",
    "\n",
    "#Guardar en formato texto: un valor en cada línea. Ambos ficheros: 505 bytes\n",
    "np.savetxt('a.txt', a, delimiter=',')\n",
    "np.savetxt('b.txt', b, delimiter=',')\n",
    "\n",
    "#Guardar ambos en forma de tupla: un array en cada línea. 505 bytes\n",
    "np.savetxt('arrays_ab.txt', (a, b))\n",
    "\n",
    "#Cargar en memoria\n",
    "ars_npz = np.load('arrays_ab.npz')\n",
    "aa = ars_npz['a']\n",
    "bb = ars_npz['b']\n",
    "\n",
    "print(aa)\n",
    "print(bb)\n",
    "\n",
    "ars_txt = np.loadtxt('arrays_ab.txt')\n",
    "aaa = ars_txt[0]\n",
    "bbb = ars_txt[1]\n",
    "print(aaa)\n",
    "print(bbb)\n",
    "\n",
    "#Referencias\n",
    "#http://stackoverflow.com/questions/9619199/best-way-to-preserve-numpy-arrays-on-disk\n",
    "#http://stackoverflow.com/questions/17574976/storing-and-loading-numpy-arrays-as-files"
   ]
  },
  {
   "cell_type": "markdown",
   "metadata": {},
   "source": [
    "** 2. Generación de datos - distribuciones de SciPy **\n",
    "\n",
    "SciPy tiene un buen número de distribuciones de probabilidad conocidas\n",
    "implementadas, continuas y discretas:\n",
    "https://docs.scipy.org/doc/scipy/reference/stats.html\n",
    "Queremos ahora estudiar la distribución de Pareto. Podemos ver su forma en\n",
    "Wikipedia:\n",
    "https://es.wikipedia.org/wiki/Distribución_de_Pareto\n",
    "Se pide lo siguiente:\n",
    "- Representar las funciones de densidad y de probabilidad similares a las\n",
    "de Wikipedia.\n",
    "- Hallar el percentil del 80% con k=1. Razonar sobre el Principio de\n",
    "Pareto, se puede consultar aquí:\n",
    "https://en.wikipedia.org/wiki/Pareto_principle\n"
   ]
  },
  {
   "cell_type": "code",
   "execution_count": 61,
   "metadata": {
    "collapsed": false,
    "scrolled": true
   },
   "outputs": [
    {
     "name": "stdout",
     "output_type": "stream",
     "text": [
      "Percentil 80% k=1: 5.0\n",
      "Percentil 20% k=1: 1.25\n"
     ]
    },
    {
     "data": {
      "text/plain": [
       "(0, 1.2)"
      ]
     },
     "execution_count": 61,
     "metadata": {},
     "output_type": "execute_result"
    },
    {
     "data": {
      "image/png": "[encoded data removed]",
      "text/plain": [
       "<matplotlib.figure.Figure at 0x277c3903080>"
      ]
     },
     "metadata": {},
     "output_type": "display_data"
    }
   ],
   "source": [
    "from scipy.stats import pareto\n",
    "import matplotlib.pyplot as plt\n",
    "\n",
    "#Plot en el notebook\n",
    "%matplotlib inline\n",
    "\n",
    "#Función de densidad de probabilidad\n",
    "#Parámetro de forma (b en la ayuda de scipy, k en Wikipedia)\n",
    "k = 1\n",
    "x = np.linspace(pareto.ppf(0.001, k), pareto.ppf(0.999, k), 100)\n",
    "\n",
    "#Probability Density Function\n",
    "plt.plot(x, pareto.pdf(x, k), lw=2, alpha=0.6, label='pareto pdf')\n",
    "\n",
    "#Frozen PDF\n",
    "#rv = pareto(k)\n",
    "#plt.plot(x, rv.pdf(x), 'k-', lw=2, label='frozen pdf')\n",
    "\n",
    "#Cumulative Distribution Function\n",
    "plt.plot(x, pareto.cdf(x, k, loc=0, scale=1), lw=2, alpha=0.6, label='pareto cdf')\n",
    "plt.legend(loc='best', frameon=False)\n",
    "\n",
    "print(\"Percentil 80% k=1: \" + str(pareto.ppf(0.8, 1)))\n",
    "print(\"Percentil 20% k=1: \" + str(pareto.ppf(0.2, 1)))\n",
    "#print(\"Percentil 99.9% k=1: \" + str(pareto.ppf(0.999, 1))) -> 1000\n",
    "#print(\"Percentil 95% k=1: \" + str(pareto.ppf(0.96, 1))) -> 25\n",
    "#Los PPF son los inversos de los valores CDF\n",
    "\n",
    "axes = plt.gca()\n",
    "axes.set_xlim([0,100])\n",
    "axes.set_ylim([0,k+0.2])\n",
    "\n",
    "#Mathematically, the 80/20 rule is roughly followed by a power law distribution (also known as a Pareto distribution)\n",
    "#for a particular set of parameters, and many natural phenomena have been shown empirically to exhibit such a distribution.\n",
    "\n",
    "#Referencias\n",
    "#https://docs.scipy.org/doc/scipy/reference/generated/scipy.stats.pareto.html#scipy.stats.pareto\n"
   ]
  },
  {
   "cell_type": "code",
   "execution_count": null,
   "metadata": {
    "collapsed": true
   },
   "outputs": [],
   "source": []
  },
  {
   "cell_type": "code",
   "execution_count": null,
   "metadata": {
    "collapsed": true
   },
   "outputs": [],
   "source": []
  }
 ],
 "metadata": {
  "kernelspec": {
   "display_name": "Python [conda root]",
   "language": "python",
   "name": "conda-root-py"
  },
  "language_info": {
   "codemirror_mode": {
    "name": "ipython",
    "version": 3
   },
   "file_extension": ".py",
   "mimetype": "text/x-python",
   "name": "python",
   "nbconvert_exporter": "python",
   "pygments_lexer": "ipython3",
   "version": "3.5.2"
  }
 },
 "nbformat": 4,
 "nbformat_minor": 1
}
