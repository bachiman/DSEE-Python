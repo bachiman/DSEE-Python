{
 "cells": [
  {
   "cell_type": "markdown",
   "metadata": {},
   "source": [
    "** NumPy básico **\n",
    "\n",
    "** Ejercicio 1 **\n",
    "- Crea un array de 45 enteros aleatorios entre -10 y 10.\n",
    "- Redimensiónalo como matriz de 5x7\n",
    "- Obtén los números positivos de esa matriz utilizando boolean indexing.\n",
    "- Obtén con una función los datos no duplicados.\n",
    "- Sobre los datos no duplicados, obtén la media.\n"
   ]
  },
  {
   "cell_type": "code",
   "execution_count": 35,
   "metadata": {
    "collapsed": false
   },
   "outputs": [
    {
     "name": "stdout",
     "output_type": "stream",
     "text": [
      "[1 2 3 4 6 7 8 9]\n",
      "Ejercicio 1. Media: 5.0\n"
     ]
    }
   ],
   "source": [
    "import numpy as np\n",
    "from numpy.random import *\n",
    "\n",
    "#Creación del array\n",
    "arRndInts = np.random.randint(-10, 10, 45)\n",
    "#Redimensionamiento\n",
    "mt = arRndInts.reshape( (5,9) )\n",
    "#Números positivos\n",
    "arPos = mt[mt > 0]\n",
    "#Datos no duplicados\n",
    "arUnique = np.unique(arPos)\n",
    "uno_media = arUnique.mean()\n",
    "print(arUnique)\n",
    "print(\"Ejercicio 1. Media: \" + str(uno_media))\n",
    "\n",
    "#Referencias\n",
    "#http://www.biochem-caflisch.uzh.ch/zhou/Numpy_Example_List_With_Doc.html#head-2d0ff9e99658f2704b70bf3e876f695f3627a246\n"
   ]
  },
  {
   "cell_type": "markdown",
   "metadata": {},
   "source": [
    "** Ejercicio 2 **\n",
    "- Crea dos arrays de 100 elementos con números aleatorios de\n",
    "distribuciones diferentes, pero en un rango de valores similar.\n",
    "- Dibuja sus histogramas y compáralos.\n",
    "- Busca en scypy.stats una función para hacer una comprobación\n",
    "(mediante un t-test) de si la media de los elementos en los dos arrays es\n",
    "diferente."
   ]
  },
  {
   "cell_type": "code",
   "execution_count": 82,
   "metadata": {
    "collapsed": false
   },
   "outputs": [
    {
     "data": {
      "image/png": "[encoded data removed]",
      "text/plain": [
       "<matplotlib.figure.Figure at 0x1941e2a4dd8>"
      ]
     },
     "metadata": {},
     "output_type": "display_data"
    },
    {
     "name": "stdout",
     "output_type": "stream",
     "text": [
      "Las medias son idénticas [0.504723469666]\n"
     ]
    }
   ],
   "source": [
    "import numpy as np\n",
    "import numpy.random as nr\n",
    "import matplotlib.pyplot as plt\n",
    "#from scipy.stats import norm\n",
    "from scipy import stats\n",
    "\n",
    "#%matplotlib inline\n",
    "\n",
    "#Creación de los arrays\n",
    "#Muestras normales de media 0 y desv. estándar 1\n",
    "arNormal = nr.normal(loc=0.0, scale=1.0, size=100)\n",
    "#Muestras de la distribución de Cauchy x_0=0 and \\gamma=1\n",
    "arCauchy = nr.standard_cauchy(size=100)\n",
    "\n",
    "#Histogramas\n",
    "\n",
    "bins = np.linspace(-10, 10, 100)\n",
    "\n",
    "plt.hist(arNormal, bins, alpha=0.5, label='Normal', color = 'blue')\n",
    "plt.hist(arCauchy, bins, alpha=0.5, label='Cauchy', color = 'red')\n",
    "plt.legend(loc='upper right')\n",
    "plt.show()\n",
    "\n",
    "#t-test sobre si la media de los dos arrays es diferente\n",
    "#This is a two-sided test for the null hypothesis that 2 independent samples have identical average (expected) values.\n",
    "#This test assumes that the populations have identical variances by default.\n",
    "statistic, pvalue = stats.ttest_ind(arNormal,arCauchy)\n",
    "\n",
    "#The test measures whether the average (expected) value differs significantly across samples.\n",
    "#If we observe a large p-value, for example larger than 0.05 or 0.1, then we cannot reject the null hypothesis\n",
    "#of identical average scores. If the p-value is smaller than the threshold, e.g. 1%, 5% or 10%,\n",
    "#then we reject the null hypothesis of equal averages.\n",
    "\n",
    "threshold = 0.05\n",
    "if pvalue >= threshold:\n",
    "    print(\"Las medias son idénticas [\" + str(pvalue) + \"]\")\n",
    "else:\n",
    "    print(\"Rechazada la hipótesis nula [\" + str(pvalue) + \"]\")\n",
    "    \n",
    "#Referencias\n",
    "#http://stackoverflow.com/questions/10138085/python-pylab-plot-normal-distribution\n",
    "#http://stackoverflow.com/questions/6871201/plot-two-histograms-at-the-same-time-with-matplotlib\n",
    "#https://docs.scipy.org/doc/scipy/reference/generated/scipy.stats.ttest_ind.html"
   ]
  },
  {
   "cell_type": "code",
   "execution_count": null,
   "metadata": {
    "collapsed": true
   },
   "outputs": [],
   "source": []
  }
 ],
 "metadata": {
  "anaconda-cloud": {},
  "kernelspec": {
   "display_name": "Python [conda root]",
   "language": "python",
   "name": "conda-root-py"
  },
  "language_info": {
   "codemirror_mode": {
    "name": "ipython",
    "version": 3
   },
   "file_extension": ".py",
   "mimetype": "text/x-python",
   "name": "python",
   "nbconvert_exporter": "python",
   "pygments_lexer": "ipython3",
   "version": "3.5.2"
  }
 },
 "nbformat": 4,
 "nbformat_minor": 1
}
