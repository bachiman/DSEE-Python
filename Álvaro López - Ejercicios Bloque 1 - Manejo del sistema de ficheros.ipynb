{
 "cells": [
  {
   "cell_type": "markdown",
   "metadata": {},
   "source": [
    "** Manejo del sistema de ficheros **\n",
    "\n",
    "Crear una función que tome una lista de ficheros y los borre del disco si los\n",
    "encuentra en una carpeta dada."
   ]
  },
  {
   "cell_type": "code",
   "execution_count": 33,
   "metadata": {
    "collapsed": false
   },
   "outputs": [
    {
     "name": "stdout",
     "output_type": "stream",
     "text": [
      "Carpeta encontrada: titanic\n"
     ]
    }
   ],
   "source": [
    "from pathlib import Path\n",
    "import os.path\n",
    "\n",
    "def borraFicheros(carpeta, listaFicheros):\n",
    "    p = Path(carpeta)\n",
    "    if p.is_dir():\n",
    "        print(\"Carpeta encontrada: \" + carpeta)\n",
    "\n",
    "        #Iterar en el contenido de la carpeta\n",
    "        for x in p.iterdir():\n",
    "            if x.is_file() and str(x.relative_to(carpeta)) in listaFicheros:\n",
    "                #Si el fichero corresponde con alguno de la lista, borrarlo\n",
    "                print(\"Borrando: \" + str(x))\n",
    "                x.unlink()\n",
    "    else:\n",
    "        print(\"Carpeta no encontrada: \" + carpeta)\n",
    "    \n",
    "#Prueba con ficheros descargados en los ejercicios de descarga de ficheros\n",
    "borraFicheros(\"titanic\", ['Dataset.spec', 'Summary'])\n",
    "\n",
    "#Referencias\n",
    "#https://docs.python.org/3/library/pathlib.html\n",
    "#https://pymotw.com/3/pathlib/"
   ]
  },
  {
   "cell_type": "markdown",
   "metadata": {},
   "source": [
    "** (**) Hacer un programa que descargue páginas consecutivas de resultados de\n",
    "una búsqueda de Google, y las borre si no encuentra dentro de ellas una\n",
    "determinada palabra (que no sea término de búsqueda). **"
   ]
  },
  {
   "cell_type": "code",
   "execution_count": null,
   "metadata": {
    "collapsed": false
   },
   "outputs": [],
   "source": []
  },
  {
   "cell_type": "markdown",
   "metadata": {},
   "source": [
    "Definir una función en Python que tome como parámetro el nombre de una\n",
    "carpeta de nuestro sistema de ficheros y devuelva una lista con las rutas\n",
    "completas de los ficheros CSV que encuentre en esa carpeta"
   ]
  },
  {
   "cell_type": "code",
   "execution_count": 44,
   "metadata": {
    "collapsed": false
   },
   "outputs": [
    {
     "name": "stdout",
     "output_type": "stream",
     "text": [
      "Buscando .csv en titanic\n",
      "Buscando .data en titanic\n"
     ]
    },
    {
     "data": {
      "text/plain": [
       "['titanic\\\\Dataset.data']"
      ]
     },
     "execution_count": 44,
     "metadata": {},
     "output_type": "execute_result"
    }
   ],
   "source": [
    "from pathlib import Path\n",
    "import os.path\n",
    "\n",
    "def getRutasFicheros(carpeta, suffix = '.csv'):\n",
    "    matches = []\n",
    "    #Verificación de existencia de carpeta\n",
    "    p = Path(carpeta)\n",
    "    if p.is_dir():\n",
    "        print(\"Buscando \" + suffix + \" en \" + carpeta)\n",
    "       \n",
    "        #Iterar en el contenido de la carpeta\n",
    "        for x in p.iterdir():\n",
    "            if x.is_file() and x.suffix == suffix:\n",
    "                #Si la terminacion corresponde con la buscada, añadirlo a la lista de matches\n",
    "                matches.append(str(x))\n",
    "    else:\n",
    "        print(\"Carpeta no encontrada: \" + carpeta)\n",
    "    \n",
    "    return matches\n",
    "    \n",
    "getRutasFicheros('titanic')\n",
    "#En el ejemplo del titanic no hay .csv, pero sí .data\n",
    "getRutasFicheros('titanic', '.data')\n",
    "\n",
    "#Referencias\n",
    "#http://stackoverflow.com/questions/2186525/use-a-glob-to-find-files-recursively-in-python\n",
    "#https://docs.python.org/3/library/pathlib.html"
   ]
  },
  {
   "cell_type": "markdown",
   "metadata": {},
   "source": [
    "(**) Ampliar la función anterior, pero mirando también en las sub-carpetas que\n",
    "contiene."
   ]
  },
  {
   "cell_type": "code",
   "execution_count": 65,
   "metadata": {
    "collapsed": false
   },
   "outputs": [
    {
     "name": "stdout",
     "output_type": "stream",
     "text": [
      "Buscando .csv en titanic\n",
      "[]\n",
      "Buscando .data en titanic\n",
      "['titanic\\\\Dataset.data', 'titanic\\\\survived\\\\Prototask.data']\n",
      "\n",
      "\n",
      "[]\n",
      "['titanic\\\\Dataset.data', 'titanic\\\\survived\\\\Prototask.data']\n"
     ]
    }
   ],
   "source": [
    "from pathlib import Path\n",
    "import os.path\n",
    "import glob\n",
    "import fnmatch\n",
    "\n",
    "def getRutasFicherosRec(carpeta, suffix = '.csv'):\n",
    "    matches = []\n",
    "    #Verificación de existencia de carpeta\n",
    "    p = Path(carpeta)\n",
    "    if p.is_dir():\n",
    "        print(\"Buscando \" + suffix + \" en \" + carpeta)\n",
    "        patron = carpeta + '/**/*' + suffix\n",
    "        #Válido a partir de python 3.5 (como en este caso). Búsqueda recursiva        \n",
    "        for filename in glob.iglob(patron, recursive=True):\n",
    "            matches.append(str(filename))\n",
    "    else:\n",
    "        print(\"Carpeta no encontrada: \" + carpeta)\n",
    "    \n",
    "    return matches\n",
    "\n",
    "def getRutasFicherosRec_v2(carpeta, suffix = '.csv'):\n",
    "    matches2 = []\n",
    "    #Verificación de existencia de carpeta\n",
    "    p = Path(carpeta)\n",
    "    if p.is_dir():\n",
    "        #Se puede emplear el método de Python 2.2 to 3.4, con os.walk\n",
    "        for root, dirnames, filenames in os.walk(carpeta):\n",
    "            for filename in fnmatch.filter(filenames, '*' + suffix):\n",
    "                matches2.append(str(os.path.join(root, filename)))\n",
    "    else:\n",
    "        print(\"Carpeta no encontrada: \" + carpeta)    \n",
    "    return matches2\n",
    "\n",
    "\n",
    "#En el ejemplo del titanic no hay .csv, pero sí .data\n",
    "print(getRutasFicherosRec('titanic'))\n",
    "print(getRutasFicherosRec('titanic', '.data'))\n",
    "print('\\n')\n",
    "print(getRutasFicherosRec_v2('titanic'))\n",
    "print(getRutasFicherosRec_v2('titanic', '.data'))\n",
    "                    \n",
    "#Referencias\n",
    "#http://stackoverflow.com/questions/2186525/use-a-glob-to-find-files-recursively-in-python\n",
    "#https://docs.python.org/3/library/pathlib.html"
   ]
  },
  {
   "cell_type": "code",
   "execution_count": null,
   "metadata": {
    "collapsed": true
   },
   "outputs": [],
   "source": []
  }
 ],
 "metadata": {
  "anaconda-cloud": {},
  "kernelspec": {
   "display_name": "Python [conda root]",
   "language": "python",
   "name": "conda-root-py"
  },
  "language_info": {
   "codemirror_mode": {
    "name": "ipython",
    "version": 3
   },
   "file_extension": ".py",
   "mimetype": "text/x-python",
   "name": "python",
   "nbconvert_exporter": "python",
   "pygments_lexer": "ipython3",
   "version": "3.5.2"
  }
 },
 "nbformat": 4,
 "nbformat_minor": 1
}
